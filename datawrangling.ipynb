{
 "cells": [
  {
   "cell_type": "markdown",
   "id": "0ed44054-9b15-408d-8bb9-dc3482fd875a",
   "metadata": {},
   "source": [
    "### Wrangling Data"
   ]
  },
  {
   "cell_type": "code",
   "execution_count": 1,
   "id": "4b33f49a-f625-4da0-b28c-4d2abeef2593",
   "metadata": {},
   "outputs": [
    {
     "name": "stderr",
     "output_type": "stream",
     "text": [
      "── \u001b[1mAttaching core tidyverse packages\u001b[22m ──────────────────────── tidyverse 2.0.0 ──\n",
      "\u001b[32m✔\u001b[39m \u001b[34mdplyr    \u001b[39m 1.1.4     \u001b[32m✔\u001b[39m \u001b[34mreadr    \u001b[39m 2.1.5\n",
      "\u001b[32m✔\u001b[39m \u001b[34mforcats  \u001b[39m 1.0.0     \u001b[32m✔\u001b[39m \u001b[34mstringr  \u001b[39m 1.5.1\n",
      "\u001b[32m✔\u001b[39m \u001b[34mggplot2  \u001b[39m 3.5.1     \u001b[32m✔\u001b[39m \u001b[34mtibble   \u001b[39m 3.2.1\n",
      "\u001b[32m✔\u001b[39m \u001b[34mlubridate\u001b[39m 1.9.3     \u001b[32m✔\u001b[39m \u001b[34mtidyr    \u001b[39m 1.3.1\n",
      "\u001b[32m✔\u001b[39m \u001b[34mpurrr    \u001b[39m 1.0.2     \n",
      "── \u001b[1mConflicts\u001b[22m ────────────────────────────────────────── tidyverse_conflicts() ──\n",
      "\u001b[31m✖\u001b[39m \u001b[34mdplyr\u001b[39m::\u001b[32mfilter()\u001b[39m masks \u001b[34mstats\u001b[39m::filter()\n",
      "\u001b[31m✖\u001b[39m \u001b[34mdplyr\u001b[39m::\u001b[32mlag()\u001b[39m    masks \u001b[34mstats\u001b[39m::lag()\n",
      "\u001b[36mℹ\u001b[39m Use the conflicted package (\u001b[3m\u001b[34m<http://conflicted.r-lib.org/>\u001b[39m\u001b[23m) to force all conflicts to become errors\n"
     ]
    }
   ],
   "source": [
    "library(tidyverse)"
   ]
  },
  {
   "cell_type": "code",
   "execution_count": 2,
   "id": "8240be36-7e49-4dd2-8786-b684771bc706",
   "metadata": {},
   "outputs": [
    {
     "name": "stderr",
     "output_type": "stream",
     "text": [
      "\u001b[1mRows: \u001b[22m\u001b[34m196\u001b[39m \u001b[1mColumns: \u001b[22m\u001b[34m9\u001b[39m\n",
      "\u001b[36m──\u001b[39m \u001b[1mColumn specification\u001b[22m \u001b[36m────────────────────────────────────────────────────────\u001b[39m\n",
      "\u001b[1mDelimiter:\u001b[22m \",\"\n",
      "\u001b[31mchr\u001b[39m (4): experience, hashedEmail, name, gender\n",
      "\u001b[32mdbl\u001b[39m (2): played_hours, age\n",
      "\u001b[33mlgl\u001b[39m (3): subscribe, individualId, organizationName\n",
      "\n",
      "\u001b[36mℹ\u001b[39m Use `spec()` to retrieve the full column specification for this data.\n",
      "\u001b[36mℹ\u001b[39m Specify the column types or set `show_col_types = FALSE` to quiet this message.\n"
     ]
    },
    {
     "data": {
      "text/html": [
       "<table class=\"dataframe\">\n",
       "<caption>A tibble: 6 × 9</caption>\n",
       "<thead>\n",
       "\t<tr><th scope=col>experience</th><th scope=col>subscribe</th><th scope=col>hashedEmail</th><th scope=col>played_hours</th><th scope=col>name</th><th scope=col>gender</th><th scope=col>age</th><th scope=col>individualId</th><th scope=col>organizationName</th></tr>\n",
       "\t<tr><th scope=col>&lt;chr&gt;</th><th scope=col>&lt;lgl&gt;</th><th scope=col>&lt;chr&gt;</th><th scope=col>&lt;dbl&gt;</th><th scope=col>&lt;chr&gt;</th><th scope=col>&lt;chr&gt;</th><th scope=col>&lt;dbl&gt;</th><th scope=col>&lt;lgl&gt;</th><th scope=col>&lt;lgl&gt;</th></tr>\n",
       "</thead>\n",
       "<tbody>\n",
       "\t<tr><td>Pro    </td><td> TRUE</td><td>f6daba428a5e19a3d47574858c13550499be23603422e6a0ee9728f8b53e192d</td><td>30.3</td><td>Morgan   </td><td>Male  </td><td> 9</td><td>NA</td><td>NA</td></tr>\n",
       "\t<tr><td>Veteran</td><td> TRUE</td><td>f3c813577c458ba0dfef80996f8f32c93b6e8af1fa939732842f2312358a88e9</td><td> 3.8</td><td>Christian</td><td>Male  </td><td>17</td><td>NA</td><td>NA</td></tr>\n",
       "\t<tr><td>Veteran</td><td>FALSE</td><td>b674dd7ee0d24096d1c019615ce4d12b20fcbff12d79d3c5a9d2118eb7ccbb28</td><td> 0.0</td><td>Blake    </td><td>Male  </td><td>17</td><td>NA</td><td>NA</td></tr>\n",
       "\t<tr><td>Amateur</td><td> TRUE</td><td>23fe711e0e3b77f1da7aa221ab1192afe21648d47d2b4fa7a5a659ff443a0eb5</td><td> 0.7</td><td>Flora    </td><td>Female</td><td>21</td><td>NA</td><td>NA</td></tr>\n",
       "\t<tr><td>Regular</td><td> TRUE</td><td>7dc01f10bf20671ecfccdac23812b1b415acd42c2147cb0af4d48fcce2420f3e</td><td> 0.1</td><td>Kylie    </td><td>Male  </td><td>21</td><td>NA</td><td>NA</td></tr>\n",
       "\t<tr><td>Amateur</td><td> TRUE</td><td>f58aad5996a435f16b0284a3b267f973f9af99e7a89bee0430055a44fa92f977</td><td> 0.0</td><td>Adrian   </td><td>Female</td><td>17</td><td>NA</td><td>NA</td></tr>\n",
       "</tbody>\n",
       "</table>\n"
      ],
      "text/latex": [
       "A tibble: 6 × 9\n",
       "\\begin{tabular}{lllllllll}\n",
       " experience & subscribe & hashedEmail & played\\_hours & name & gender & age & individualId & organizationName\\\\\n",
       " <chr> & <lgl> & <chr> & <dbl> & <chr> & <chr> & <dbl> & <lgl> & <lgl>\\\\\n",
       "\\hline\n",
       "\t Pro     &  TRUE & f6daba428a5e19a3d47574858c13550499be23603422e6a0ee9728f8b53e192d & 30.3 & Morgan    & Male   &  9 & NA & NA\\\\\n",
       "\t Veteran &  TRUE & f3c813577c458ba0dfef80996f8f32c93b6e8af1fa939732842f2312358a88e9 &  3.8 & Christian & Male   & 17 & NA & NA\\\\\n",
       "\t Veteran & FALSE & b674dd7ee0d24096d1c019615ce4d12b20fcbff12d79d3c5a9d2118eb7ccbb28 &  0.0 & Blake     & Male   & 17 & NA & NA\\\\\n",
       "\t Amateur &  TRUE & 23fe711e0e3b77f1da7aa221ab1192afe21648d47d2b4fa7a5a659ff443a0eb5 &  0.7 & Flora     & Female & 21 & NA & NA\\\\\n",
       "\t Regular &  TRUE & 7dc01f10bf20671ecfccdac23812b1b415acd42c2147cb0af4d48fcce2420f3e &  0.1 & Kylie     & Male   & 21 & NA & NA\\\\\n",
       "\t Amateur &  TRUE & f58aad5996a435f16b0284a3b267f973f9af99e7a89bee0430055a44fa92f977 &  0.0 & Adrian    & Female & 17 & NA & NA\\\\\n",
       "\\end{tabular}\n"
      ],
      "text/markdown": [
       "\n",
       "A tibble: 6 × 9\n",
       "\n",
       "| experience &lt;chr&gt; | subscribe &lt;lgl&gt; | hashedEmail &lt;chr&gt; | played_hours &lt;dbl&gt; | name &lt;chr&gt; | gender &lt;chr&gt; | age &lt;dbl&gt; | individualId &lt;lgl&gt; | organizationName &lt;lgl&gt; |\n",
       "|---|---|---|---|---|---|---|---|---|\n",
       "| Pro     |  TRUE | f6daba428a5e19a3d47574858c13550499be23603422e6a0ee9728f8b53e192d | 30.3 | Morgan    | Male   |  9 | NA | NA |\n",
       "| Veteran |  TRUE | f3c813577c458ba0dfef80996f8f32c93b6e8af1fa939732842f2312358a88e9 |  3.8 | Christian | Male   | 17 | NA | NA |\n",
       "| Veteran | FALSE | b674dd7ee0d24096d1c019615ce4d12b20fcbff12d79d3c5a9d2118eb7ccbb28 |  0.0 | Blake     | Male   | 17 | NA | NA |\n",
       "| Amateur |  TRUE | 23fe711e0e3b77f1da7aa221ab1192afe21648d47d2b4fa7a5a659ff443a0eb5 |  0.7 | Flora     | Female | 21 | NA | NA |\n",
       "| Regular |  TRUE | 7dc01f10bf20671ecfccdac23812b1b415acd42c2147cb0af4d48fcce2420f3e |  0.1 | Kylie     | Male   | 21 | NA | NA |\n",
       "| Amateur |  TRUE | f58aad5996a435f16b0284a3b267f973f9af99e7a89bee0430055a44fa92f977 |  0.0 | Adrian    | Female | 17 | NA | NA |\n",
       "\n"
      ],
      "text/plain": [
       "  experience subscribe\n",
       "1 Pro         TRUE    \n",
       "2 Veteran     TRUE    \n",
       "3 Veteran    FALSE    \n",
       "4 Amateur     TRUE    \n",
       "5 Regular     TRUE    \n",
       "6 Amateur     TRUE    \n",
       "  hashedEmail                                                      played_hours\n",
       "1 f6daba428a5e19a3d47574858c13550499be23603422e6a0ee9728f8b53e192d 30.3        \n",
       "2 f3c813577c458ba0dfef80996f8f32c93b6e8af1fa939732842f2312358a88e9  3.8        \n",
       "3 b674dd7ee0d24096d1c019615ce4d12b20fcbff12d79d3c5a9d2118eb7ccbb28  0.0        \n",
       "4 23fe711e0e3b77f1da7aa221ab1192afe21648d47d2b4fa7a5a659ff443a0eb5  0.7        \n",
       "5 7dc01f10bf20671ecfccdac23812b1b415acd42c2147cb0af4d48fcce2420f3e  0.1        \n",
       "6 f58aad5996a435f16b0284a3b267f973f9af99e7a89bee0430055a44fa92f977  0.0        \n",
       "  name      gender age individualId organizationName\n",
       "1 Morgan    Male    9  NA           NA              \n",
       "2 Christian Male   17  NA           NA              \n",
       "3 Blake     Male   17  NA           NA              \n",
       "4 Flora     Female 21  NA           NA              \n",
       "5 Kylie     Male   21  NA           NA              \n",
       "6 Adrian    Female 17  NA           NA              "
      ]
     },
     "metadata": {},
     "output_type": "display_data"
    }
   ],
   "source": [
    "#load in data\n",
    "googleplayers <- 'https://drive.google.com/file/d/1Mw9vW0hjTJwRWx0bDXiSpYsO3gKogaPz/edit'\n",
    "\n",
    "#Turn google drive link into a direct link to load in the data\n",
    "direct_link_players <- 'https://drive.google.com/uc?export=download&id=1Mw9vW0hjTJwRWx0bDXiSpYsO3gKogaPz'\n",
    "\n",
    "players <- read_csv(direct_link_players)\n",
    "\n",
    "head(players)"
   ]
  },
  {
   "cell_type": "code",
   "execution_count": 19,
   "id": "63137e4a-ef7c-4933-a477-442ed19a5a14",
   "metadata": {},
   "outputs": [
    {
     "data": {
      "text/html": [
       "<table class=\"dataframe\">\n",
       "<caption>A tibble: 6 × 3</caption>\n",
       "<thead>\n",
       "\t<tr><th scope=col>experience</th><th scope=col>played_hours</th><th scope=col>age</th></tr>\n",
       "\t<tr><th scope=col>&lt;int&gt;</th><th scope=col>&lt;dbl&gt;</th><th scope=col>&lt;dbl&gt;</th></tr>\n",
       "</thead>\n",
       "<tbody>\n",
       "\t<tr><td>4</td><td>30.3</td><td> 9</td></tr>\n",
       "\t<tr><td>5</td><td> 3.8</td><td>17</td></tr>\n",
       "\t<tr><td>5</td><td> 0.0</td><td>17</td></tr>\n",
       "\t<tr><td>2</td><td> 0.7</td><td>21</td></tr>\n",
       "\t<tr><td>3</td><td> 0.1</td><td>21</td></tr>\n",
       "\t<tr><td>2</td><td> 0.0</td><td>17</td></tr>\n",
       "</tbody>\n",
       "</table>\n"
      ],
      "text/latex": [
       "A tibble: 6 × 3\n",
       "\\begin{tabular}{lll}\n",
       " experience & played\\_hours & age\\\\\n",
       " <int> & <dbl> & <dbl>\\\\\n",
       "\\hline\n",
       "\t 4 & 30.3 &  9\\\\\n",
       "\t 5 &  3.8 & 17\\\\\n",
       "\t 5 &  0.0 & 17\\\\\n",
       "\t 2 &  0.7 & 21\\\\\n",
       "\t 3 &  0.1 & 21\\\\\n",
       "\t 2 &  0.0 & 17\\\\\n",
       "\\end{tabular}\n"
      ],
      "text/markdown": [
       "\n",
       "A tibble: 6 × 3\n",
       "\n",
       "| experience &lt;int&gt; | played_hours &lt;dbl&gt; | age &lt;dbl&gt; |\n",
       "|---|---|---|\n",
       "| 4 | 30.3 |  9 |\n",
       "| 5 |  3.8 | 17 |\n",
       "| 5 |  0.0 | 17 |\n",
       "| 2 |  0.7 | 21 |\n",
       "| 3 |  0.1 | 21 |\n",
       "| 2 |  0.0 | 17 |\n",
       "\n"
      ],
      "text/plain": [
       "  experience played_hours age\n",
       "1 4          30.3          9 \n",
       "2 5           3.8         17 \n",
       "3 5           0.0         17 \n",
       "4 2           0.7         21 \n",
       "5 3           0.1         21 \n",
       "6 2           0.0         17 "
      ]
     },
     "metadata": {},
     "output_type": "display_data"
    }
   ],
   "source": [
    "players <- players |> \n",
    "mutate(experience = factor(experience, levels = c(\"Beginner\", \"Amateur\", \"Regular\", \"Pro\", \"Veteran\")) |> \n",
    "       unclass()) |> \n",
    "select(experience, played_hours, age) \n",
    "head(players)"
   ]
  },
  {
   "cell_type": "code",
   "execution_count": null,
   "id": "95f8e3e9-86ca-430e-bf34-867b21b78dda",
   "metadata": {},
   "outputs": [],
   "source": [
    "#Recipe + spliting the data \n",
    "\n",
    "data_split <- intial_spilt(players, prop = .75, strata = played_hours) \n",
    "players_training <- training(data_split) \n",
    "players_testing <- testing(data_split) \n",
    "\n",
    "recipe <- recipe(played_hours ~ ., data = players) |> \n",
    "step_center(all_predictors()) |> \n",
    "step_scale(all_predictors())"
   ]
  },
  {
   "cell_type": "code",
   "execution_count": null,
   "id": "a8a022a4-015c-4dbd-a17e-91687d4c8e83",
   "metadata": {},
   "outputs": [],
   "source": []
  }
 ],
 "metadata": {
  "kernelspec": {
   "display_name": "R",
   "language": "R",
   "name": "ir"
  },
  "language_info": {
   "codemirror_mode": "r",
   "file_extension": ".r",
   "mimetype": "text/x-r-source",
   "name": "R",
   "pygments_lexer": "r",
   "version": "4.3.3"
  }
 },
 "nbformat": 4,
 "nbformat_minor": 5
}
